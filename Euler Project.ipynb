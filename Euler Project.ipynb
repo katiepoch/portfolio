{
 "cells": [
  {
   "cell_type": "code",
   "execution_count": null,
   "id": "a205bb4f",
   "metadata": {},
   "outputs": [],
   "source": [
    "Если выписать все натуральные числа меньше 10, кратные 3 или 5, то получим 3, 5, 6 и 9. Сумма этих чисел равна 23.\n",
    "\n",
    "Найдите сумму всех чисел меньше 1000, кратных 3 или 5."
   ]
  },
  {
   "cell_type": "code",
   "execution_count": 21,
   "id": "4cc13eaf",
   "metadata": {},
   "outputs": [],
   "source": [
    "newlist=[]"
   ]
  },
  {
   "cell_type": "code",
   "execution_count": 22,
   "id": "0a249b58",
   "metadata": {},
   "outputs": [],
   "source": [
    "for i in range(1,1000):\n",
    "    if i%3==0 or i%5==0:\n",
    "        newlist.append(i)"
   ]
  },
  {
   "cell_type": "code",
   "execution_count": 23,
   "id": "d2fd157f",
   "metadata": {},
   "outputs": [
    {
     "data": {
      "text/plain": [
       "233168"
      ]
     },
     "execution_count": 23,
     "metadata": {},
     "output_type": "execute_result"
    }
   ],
   "source": [
    "sumnewlist= sum(newlist)\n",
    "sumnewlist"
   ]
  },
  {
   "cell_type": "code",
   "execution_count": null,
   "id": "3be64a06",
   "metadata": {},
   "outputs": [],
   "source": [
    "Каждый следующий элемент ряда Фибоначчи получается при сложении двух предыдущих. Начиная с 1 и 2, первые 10 элементов будут:\n",
    "\n",
    "1, 2, 3, 5, 8, 13, 21, 34, 55, 89, ...\n",
    "\n",
    "Найдите сумму всех четных элементов ряда Фибоначчи, которые не превышают четыре миллиона."
   ]
  },
  {
   "cell_type": "code",
   "execution_count": 8,
   "id": "d2f791ed",
   "metadata": {},
   "outputs": [],
   "source": [
    "listf=[1,2]"
   ]
  },
  {
   "cell_type": "code",
   "execution_count": 13,
   "id": "e0d4e794",
   "metadata": {},
   "outputs": [
    {
     "data": {
      "text/plain": [
       "[1, 2]"
      ]
     },
     "execution_count": 13,
     "metadata": {},
     "output_type": "execute_result"
    }
   ],
   "source": [
    "listf[-2:]"
   ]
  },
  {
   "cell_type": "code",
   "execution_count": 16,
   "id": "b82e7037",
   "metadata": {},
   "outputs": [],
   "source": [
    "while listf[-1] <= 4000000:\n",
    "    listf.append(sum(listf[-2:]))"
   ]
  },
  {
   "cell_type": "code",
   "execution_count": 17,
   "id": "b6496df0",
   "metadata": {},
   "outputs": [
    {
     "data": {
      "text/plain": [
       "[1, 2, 3, 5, 8, 13, 21, 34, 55, 89, 144, 233, 377, 610, 987]"
      ]
     },
     "execution_count": 17,
     "metadata": {},
     "output_type": "execute_result"
    }
   ],
   "source": [
    "listf[0:15]"
   ]
  },
  {
   "cell_type": "code",
   "execution_count": 18,
   "id": "a037d5ce",
   "metadata": {},
   "outputs": [],
   "source": [
    "list2=[s for s in listf\n",
    "      if s%2==0]"
   ]
  },
  {
   "cell_type": "code",
   "execution_count": 19,
   "id": "3589e498",
   "metadata": {},
   "outputs": [],
   "source": [
    "sumlist2=sum(list2)"
   ]
  },
  {
   "cell_type": "code",
   "execution_count": 20,
   "id": "a2021409",
   "metadata": {},
   "outputs": [
    {
     "data": {
      "text/plain": [
       "4613732"
      ]
     },
     "execution_count": 20,
     "metadata": {},
     "output_type": "execute_result"
    }
   ],
   "source": [
    "sumlist2"
   ]
  },
  {
   "cell_type": "code",
   "execution_count": null,
   "id": "9e443246",
   "metadata": {},
   "outputs": [],
   "source": [
    "Простые делители числа 13195 - это 5, 7, 13 и 29.\n",
    "\n",
    "Каков самый большой делитель числа 600851475143, являющийся простым числом?"
   ]
  },
  {
   "cell_type": "code",
   "execution_count": 2,
   "id": "a5551a30",
   "metadata": {},
   "outputs": [],
   "source": [
    "list3=[]"
   ]
  },
  {
   "cell_type": "code",
   "execution_count": null,
   "id": "9338c5b2",
   "metadata": {},
   "outputs": [],
   "source": []
  },
  {
   "cell_type": "code",
   "execution_count": 1,
   "id": "128d88c2",
   "metadata": {},
   "outputs": [],
   "source": [
    "number=1000000"
   ]
  },
  {
   "cell_type": "code",
   "execution_count": null,
   "id": "07276747",
   "metadata": {},
   "outputs": [],
   "source": [
    "# нахожу простые числа в списке\n",
    "for s in range(1,number+1):\n",
    "    if s>1:\n",
    "        for i in range(2,s):\n",
    "            if (s%i)==0:\n",
    "                break\n",
    "            else:\n",
    "                list3.append(s)\n",
    "\n",
    "\n"
   ]
  },
  {
   "cell_type": "code",
   "execution_count": 1,
   "id": "bb5e1313",
   "metadata": {},
   "outputs": [
    {
     "name": "stdout",
     "output_type": "stream",
     "text": [
      "6857\n"
     ]
    }
   ],
   "source": [
    "num=600851475143\n",
    "count=1\n",
    "while num!=1:\n",
    "    count+=1\n",
    "    if num%count==0:\n",
    "        num/=count\n",
    "\n",
    "print(count)"
   ]
  },
  {
   "cell_type": "code",
   "execution_count": null,
   "id": "c84879ac",
   "metadata": {},
   "outputs": [],
   "source": [
    "list3[1:15]"
   ]
  },
  {
   "cell_type": "code",
   "execution_count": null,
   "id": "89fcc0ea",
   "metadata": {},
   "outputs": [],
   "source": []
  },
  {
   "cell_type": "code",
   "execution_count": null,
   "id": "9cfddb2b",
   "metadata": {},
   "outputs": [],
   "source": [
    "newlist2=[s for s in range(1,number+1) \n",
    "         if s%2 == 0]"
   ]
  },
  {
   "cell_type": "code",
   "execution_count": null,
   "id": "fb763a9a",
   "metadata": {},
   "outputs": [],
   "source": []
  },
  {
   "cell_type": "code",
   "execution_count": null,
   "id": "cfb3b69f",
   "metadata": {},
   "outputs": [],
   "source": [
    "#Число-палиндром с обеих сторон (справа налево и слева направо) читается одинаково. \n",
    "#Самое большое число-палиндром, полученное умножением двух двузначных чисел – 9009 = 91 × 99.\n",
    "\n",
    "#Найдите самый большой палиндром, полученный умножением двух трехзначных чисел."
   ]
  },
  {
   "cell_type": "code",
   "execution_count": 8,
   "id": "1c3d59f2",
   "metadata": {},
   "outputs": [],
   "source": [
    "newlist3 = list(range(100,999+1))\n",
    "#newlist3=list(range(10,100))"
   ]
  },
  {
   "cell_type": "code",
   "execution_count": 9,
   "id": "31c403ff",
   "metadata": {},
   "outputs": [],
   "source": [
    "final=[]\n",
    "for i in newlist3:\n",
    "    for g in newlist3:\n",
    "        m=i*g\n",
    "        x=str(m)\n",
    "        if x[::-1]==x:\n",
    "            final.append(m)"
   ]
  },
  {
   "cell_type": "code",
   "execution_count": 10,
   "id": "9a1ccdb8",
   "metadata": {},
   "outputs": [
    {
     "data": {
      "text/plain": [
       "906609"
      ]
     },
     "execution_count": 10,
     "metadata": {},
     "output_type": "execute_result"
    }
   ],
   "source": [
    "max(final)"
   ]
  },
  {
   "cell_type": "code",
   "execution_count": null,
   "id": "34bb18ab",
   "metadata": {},
   "outputs": [],
   "source": [
    "2520 - самое маленькое число, которое делится без остатка на все числа от 1 до 10.\n",
    "\n",
    "Какое самое маленькое число делится нацело на все числа от 1 до 20?"
   ]
  },
  {
   "cell_type": "code",
   "execution_count": null,
   "id": "9c2525b7",
   "metadata": {},
   "outputs": [],
   "source": [
    "#newlist4=list(range(1,10+1))\n",
    "for s in range(1,10+1):\n",
    "\n",
    "    "
   ]
  },
  {
   "cell_type": "code",
   "execution_count": null,
   "id": "ff41341d",
   "metadata": {},
   "outputs": [],
   "source": []
  },
  {
   "cell_type": "code",
   "execution_count": null,
   "id": "8292ca01",
   "metadata": {},
   "outputs": [],
   "source": []
  },
  {
   "cell_type": "code",
   "execution_count": null,
   "id": "6c7f7696",
   "metadata": {},
   "outputs": [],
   "source": []
  },
  {
   "cell_type": "code",
   "execution_count": null,
   "id": "55258fa8",
   "metadata": {},
   "outputs": [],
   "source": []
  }
 ],
 "metadata": {
  "kernelspec": {
   "display_name": "Python 3 (ipykernel)",
   "language": "python",
   "name": "python3"
  },
  "language_info": {
   "codemirror_mode": {
    "name": "ipython",
    "version": 3
   },
   "file_extension": ".py",
   "mimetype": "text/x-python",
   "name": "python",
   "nbconvert_exporter": "python",
   "pygments_lexer": "ipython3",
   "version": "3.9.12"
  }
 },
 "nbformat": 4,
 "nbformat_minor": 5
}
